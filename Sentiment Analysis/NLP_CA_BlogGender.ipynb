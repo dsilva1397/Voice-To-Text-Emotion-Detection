{
  "nbformat": 4,
  "nbformat_minor": 0,
  "metadata": {
    "colab": {
      "name": "NLP_CA_Trial.ipynb",
      "provenance": [],
      "collapsed_sections": []
    },
    "kernelspec": {
      "name": "python3",
      "display_name": "Python 3"
    },
    "language_info": {
      "name": "python"
    }
  },
  "cells": [
    {
      "cell_type": "markdown",
      "source": [
        "#Importing Warnings to filter up un necessary warning messages\n",
        "#Also Importing:\n",
        "\n",
        "\n",
        "1.   Pandas- Data Manipulation\n",
        "2.   Numpy- Numerical Operations\n",
        "3. re for regex operations\n",
        "4. TfidfVectorizer- To Vectorize the Input\n",
        "5. XGBClassifier\n",
        "6. Models for Machine Learning and Prediction:\n",
        "\n",
        "\n",
        "  *   Logistic Regression\n",
        "  *   SVC\n",
        "  * BernoulliNB\n",
        "\n",
        "\n",
        "\n"
      ],
      "metadata": {
        "id": "rQvQp6FbyPHw"
      }
    },
    {
      "cell_type": "code",
      "source": [
        "import warnings\n",
        "warnings.filterwarnings('ignore')\n",
        "import pandas as pd\n",
        "import numpy as np\n",
        "import re,string\n",
        "from nltk.corpus import stopwords\n",
        "from nltk import word_tokenize\n",
        "from sklearn.feature_extraction.text import TfidfVectorizer\n",
        "from sklearn.model_selection import StratifiedKFold, RandomizedSearchCV\n",
        "from xgboost import XGBClassifier\n",
        "from sklearn.linear_model import LogisticRegression\n",
        "from sklearn.naive_bayes import BernoulliNB\n",
        "from sklearn import svm\n",
        "from sklearn.metrics import accuracy_score\n",
        "from scipy import stats\n",
        "from sklearn.metrics import f1_score"
      ],
      "metadata": {
        "id": "uI_dObVB2efI"
      },
      "execution_count": null,
      "outputs": []
    },
    {
      "cell_type": "markdown",
      "source": [
        "##Data Cleaning"
      ],
      "metadata": {
        "id": "hAiElzUtzGS6"
      }
    },
    {
      "cell_type": "code",
      "source": [
        "def strip_links(text):\n",
        "    link_regex = re.compile('((https?):((//)|(\\\\\\\\))+([\\w\\d:#@%/;$()~_?\\+-=\\\\\\.&](#!)?)*)', re.DOTALL)\n",
        "    links = re.findall(link_regex, text)\n",
        "    for link in links:\n",
        "        text = text.replace(link[0], ', ')    \n",
        "    return text"
      ],
      "metadata": {
        "id": "rsrNs9TH2lev"
      },
      "execution_count": null,
      "outputs": []
    },
    {
      "cell_type": "markdown",
      "source": [
        "##Removing Symbols and Stop Words"
      ],
      "metadata": {
        "id": "agPbmiCXzKrm"
      }
    },
    {
      "cell_type": "code",
      "source": [
        "def strip_all_entities(text):\n",
        "    entity_prefixes = ['@','#']\n",
        "    for separator in  string.punctuation:\n",
        "        if separator not in entity_prefixes :\n",
        "            text = text.replace(separator,' ')\n",
        "    words = []\n",
        "    for word in text.split():\n",
        "        word = word.strip()\n",
        "        if word:\n",
        "            if word[0] not in entity_prefixes:\n",
        "                words.append(word)\n",
        "    return ' '.join(words)\n",
        "\n",
        "def stop_rev(text):\n",
        "    result = []\n",
        "    token = word_tokenize(text)\n",
        "    stop = set(stopwords.words('english'))\n",
        "    for num in token:\n",
        "        if num not in stop and len(num) >= 3:\n",
        "            result.append(num)\n",
        "    return \" \".join(result)"
      ],
      "metadata": {
        "id": "Oa-dmto-2nWF"
      },
      "execution_count": null,
      "outputs": []
    },
    {
      "cell_type": "markdown",
      "source": [
        "##Reading Input File"
      ],
      "metadata": {
        "id": "f_A6lWk2zRjx"
      }
    },
    {
      "cell_type": "code",
      "source": [
        "df = pd.read_excel('/content/BLOG GENDER BALANCED.xlsx')\n",
        "print(df.head())"
      ],
      "metadata": {
        "colab": {
          "base_uri": "https://localhost:8080/"
        },
        "id": "1407O4to3ffp",
        "outputId": "5356497c-caf3-4c82-f098-713e23c6f63e"
      },
      "execution_count": null,
      "outputs": [
        {
          "output_type": "stream",
          "name": "stdout",
          "text": [
            "                                                BLOG GENDER\n",
            "0   Beyond Getting There: What Travel Days Show U...      F\n",
            "1  I remember so much about the island; the large...      F\n",
            "2  I have had asthma and allergies my entire life...      M\n",
            "3  The last few days have been an emotional rolle...      M\n",
            "4  If you lined up all the teachers and staff in ...      F\n"
          ]
        }
      ]
    },
    {
      "cell_type": "code",
      "source": [
        "df.columns"
      ],
      "metadata": {
        "colab": {
          "base_uri": "https://localhost:8080/"
        },
        "id": "dH7KH1gt3-__",
        "outputId": "be71bbd9-47ee-4458-f0f4-f9bbb13f56ac"
      },
      "execution_count": null,
      "outputs": [
        {
          "output_type": "execute_result",
          "data": {
            "text/plain": [
              "Index(['BLOG', 'GENDER'], dtype='object')"
            ]
          },
          "metadata": {},
          "execution_count": 5
        }
      ]
    },
    {
      "cell_type": "markdown",
      "source": [
        "##Dropping NA fields"
      ],
      "metadata": {
        "id": "f1GoeepbzVlA"
      }
    },
    {
      "cell_type": "code",
      "source": [
        "df.dropna(inplace=True)\n",
        "df"
      ],
      "metadata": {
        "colab": {
          "base_uri": "https://localhost:8080/",
          "height": 419
        },
        "id": "L8CRH-G85xCw",
        "outputId": "8f3b8686-20d2-4821-cf60-7d068f51305a"
      },
      "execution_count": null,
      "outputs": [
        {
          "output_type": "execute_result",
          "data": {
            "text/plain": [
              "                                                   BLOG GENDER\n",
              "0      Beyond Getting There: What Travel Days Show U...      F\n",
              "1     I remember so much about the island; the large...      F\n",
              "2     I have had asthma and allergies my entire life...      M\n",
              "3     The last few days have been an emotional rolle...      M\n",
              "4     If you lined up all the teachers and staff in ...      F\n",
              "...                                                 ...    ...\n",
              "2595   Activists help put an end to gross negligence...      F\n",
              "2596  I live to bash Al-Farouq Aminu, so bash him I ...      M\n",
              "2597  so i havent posted anything in a couple of day...      M\n",
              "2598  Hey.  Things are going great down here in alab...      M\n",
              "2599    had a very enjoyable debate with Avner Rosen...      M\n",
              "\n",
              "[2599 rows x 2 columns]"
            ],
            "text/html": [
              "\n",
              "  <div id=\"df-33fa1030-f062-4e71-8e97-a5421d6f1381\">\n",
              "    <div class=\"colab-df-container\">\n",
              "      <div>\n",
              "<style scoped>\n",
              "    .dataframe tbody tr th:only-of-type {\n",
              "        vertical-align: middle;\n",
              "    }\n",
              "\n",
              "    .dataframe tbody tr th {\n",
              "        vertical-align: top;\n",
              "    }\n",
              "\n",
              "    .dataframe thead th {\n",
              "        text-align: right;\n",
              "    }\n",
              "</style>\n",
              "<table border=\"1\" class=\"dataframe\">\n",
              "  <thead>\n",
              "    <tr style=\"text-align: right;\">\n",
              "      <th></th>\n",
              "      <th>BLOG</th>\n",
              "      <th>GENDER</th>\n",
              "    </tr>\n",
              "  </thead>\n",
              "  <tbody>\n",
              "    <tr>\n",
              "      <th>0</th>\n",
              "      <td>Beyond Getting There: What Travel Days Show U...</td>\n",
              "      <td>F</td>\n",
              "    </tr>\n",
              "    <tr>\n",
              "      <th>1</th>\n",
              "      <td>I remember so much about the island; the large...</td>\n",
              "      <td>F</td>\n",
              "    </tr>\n",
              "    <tr>\n",
              "      <th>2</th>\n",
              "      <td>I have had asthma and allergies my entire life...</td>\n",
              "      <td>M</td>\n",
              "    </tr>\n",
              "    <tr>\n",
              "      <th>3</th>\n",
              "      <td>The last few days have been an emotional rolle...</td>\n",
              "      <td>M</td>\n",
              "    </tr>\n",
              "    <tr>\n",
              "      <th>4</th>\n",
              "      <td>If you lined up all the teachers and staff in ...</td>\n",
              "      <td>F</td>\n",
              "    </tr>\n",
              "    <tr>\n",
              "      <th>...</th>\n",
              "      <td>...</td>\n",
              "      <td>...</td>\n",
              "    </tr>\n",
              "    <tr>\n",
              "      <th>2595</th>\n",
              "      <td>Activists help put an end to gross negligence...</td>\n",
              "      <td>F</td>\n",
              "    </tr>\n",
              "    <tr>\n",
              "      <th>2596</th>\n",
              "      <td>I live to bash Al-Farouq Aminu, so bash him I ...</td>\n",
              "      <td>M</td>\n",
              "    </tr>\n",
              "    <tr>\n",
              "      <th>2597</th>\n",
              "      <td>so i havent posted anything in a couple of day...</td>\n",
              "      <td>M</td>\n",
              "    </tr>\n",
              "    <tr>\n",
              "      <th>2598</th>\n",
              "      <td>Hey.  Things are going great down here in alab...</td>\n",
              "      <td>M</td>\n",
              "    </tr>\n",
              "    <tr>\n",
              "      <th>2599</th>\n",
              "      <td>had a very enjoyable debate with Avner Rosen...</td>\n",
              "      <td>M</td>\n",
              "    </tr>\n",
              "  </tbody>\n",
              "</table>\n",
              "<p>2599 rows × 2 columns</p>\n",
              "</div>\n",
              "      <button class=\"colab-df-convert\" onclick=\"convertToInteractive('df-33fa1030-f062-4e71-8e97-a5421d6f1381')\"\n",
              "              title=\"Convert this dataframe to an interactive table.\"\n",
              "              style=\"display:none;\">\n",
              "        \n",
              "  <svg xmlns=\"http://www.w3.org/2000/svg\" height=\"24px\"viewBox=\"0 0 24 24\"\n",
              "       width=\"24px\">\n",
              "    <path d=\"M0 0h24v24H0V0z\" fill=\"none\"/>\n",
              "    <path d=\"M18.56 5.44l.94 2.06.94-2.06 2.06-.94-2.06-.94-.94-2.06-.94 2.06-2.06.94zm-11 1L8.5 8.5l.94-2.06 2.06-.94-2.06-.94L8.5 2.5l-.94 2.06-2.06.94zm10 10l.94 2.06.94-2.06 2.06-.94-2.06-.94-.94-2.06-.94 2.06-2.06.94z\"/><path d=\"M17.41 7.96l-1.37-1.37c-.4-.4-.92-.59-1.43-.59-.52 0-1.04.2-1.43.59L10.3 9.45l-7.72 7.72c-.78.78-.78 2.05 0 2.83L4 21.41c.39.39.9.59 1.41.59.51 0 1.02-.2 1.41-.59l7.78-7.78 2.81-2.81c.8-.78.8-2.07 0-2.86zM5.41 20L4 18.59l7.72-7.72 1.47 1.35L5.41 20z\"/>\n",
              "  </svg>\n",
              "      </button>\n",
              "      \n",
              "  <style>\n",
              "    .colab-df-container {\n",
              "      display:flex;\n",
              "      flex-wrap:wrap;\n",
              "      gap: 12px;\n",
              "    }\n",
              "\n",
              "    .colab-df-convert {\n",
              "      background-color: #E8F0FE;\n",
              "      border: none;\n",
              "      border-radius: 50%;\n",
              "      cursor: pointer;\n",
              "      display: none;\n",
              "      fill: #1967D2;\n",
              "      height: 32px;\n",
              "      padding: 0 0 0 0;\n",
              "      width: 32px;\n",
              "    }\n",
              "\n",
              "    .colab-df-convert:hover {\n",
              "      background-color: #E2EBFA;\n",
              "      box-shadow: 0px 1px 2px rgba(60, 64, 67, 0.3), 0px 1px 3px 1px rgba(60, 64, 67, 0.15);\n",
              "      fill: #174EA6;\n",
              "    }\n",
              "\n",
              "    [theme=dark] .colab-df-convert {\n",
              "      background-color: #3B4455;\n",
              "      fill: #D2E3FC;\n",
              "    }\n",
              "\n",
              "    [theme=dark] .colab-df-convert:hover {\n",
              "      background-color: #434B5C;\n",
              "      box-shadow: 0px 1px 3px 1px rgba(0, 0, 0, 0.15);\n",
              "      filter: drop-shadow(0px 1px 2px rgba(0, 0, 0, 0.3));\n",
              "      fill: #FFFFFF;\n",
              "    }\n",
              "  </style>\n",
              "\n",
              "      <script>\n",
              "        const buttonEl =\n",
              "          document.querySelector('#df-33fa1030-f062-4e71-8e97-a5421d6f1381 button.colab-df-convert');\n",
              "        buttonEl.style.display =\n",
              "          google.colab.kernel.accessAllowed ? 'block' : 'none';\n",
              "\n",
              "        async function convertToInteractive(key) {\n",
              "          const element = document.querySelector('#df-33fa1030-f062-4e71-8e97-a5421d6f1381');\n",
              "          const dataTable =\n",
              "            await google.colab.kernel.invokeFunction('convertToInteractive',\n",
              "                                                     [key], {});\n",
              "          if (!dataTable) return;\n",
              "\n",
              "          const docLinkHtml = 'Like what you see? Visit the ' +\n",
              "            '<a target=\"_blank\" href=https://colab.research.google.com/notebooks/data_table.ipynb>data table notebook</a>'\n",
              "            + ' to learn more about interactive tables.';\n",
              "          element.innerHTML = '';\n",
              "          dataTable['output_type'] = 'display_data';\n",
              "          await google.colab.output.renderOutput(dataTable, element);\n",
              "          const docLink = document.createElement('div');\n",
              "          docLink.innerHTML = docLinkHtml;\n",
              "          element.appendChild(docLink);\n",
              "        }\n",
              "      </script>\n",
              "    </div>\n",
              "  </div>\n",
              "  "
            ]
          },
          "metadata": {},
          "execution_count": 6
        }
      ]
    },
    {
      "cell_type": "code",
      "source": [
        "blogs = df[\"BLOG\"]\n",
        "gender = df[\"GENDER\"]"
      ],
      "metadata": {
        "id": "bKF3X1TT4FEC"
      },
      "execution_count": null,
      "outputs": []
    },
    {
      "cell_type": "markdown",
      "source": [
        "##Cleaning Data"
      ],
      "metadata": {
        "id": "1uHTG0Tjza_p"
      }
    },
    {
      "cell_type": "code",
      "source": [
        "import nltk\n",
        "nltk.download('punkt')\n",
        "nltk.download('stopwords')"
      ],
      "metadata": {
        "colab": {
          "base_uri": "https://localhost:8080/"
        },
        "id": "1d6V8qkJ1JPl",
        "outputId": "fdb48629-7511-4912-f1ca-427a0c2e3c35"
      },
      "execution_count": null,
      "outputs": [
        {
          "output_type": "stream",
          "name": "stdout",
          "text": [
            "[nltk_data] Downloading package punkt to /root/nltk_data...\n",
            "[nltk_data]   Package punkt is already up-to-date!\n",
            "[nltk_data] Downloading package stopwords to /root/nltk_data...\n",
            "[nltk_data]   Package stopwords is already up-to-date!\n"
          ]
        },
        {
          "output_type": "execute_result",
          "data": {
            "text/plain": [
              "True"
            ]
          },
          "metadata": {},
          "execution_count": 8
        }
      ]
    },
    {
      "cell_type": "code",
      "source": [
        "clean_news = []\n",
        "for blog in blogs:\n",
        "    clean_news.append(stop_rev(strip_all_entities(strip_links(' '.join(re.sub(\"(@[A-Za-z0-9]+)|([^0-9A-Za-z \\t])|(\\w+:\\/\\/\\S+)\",\" \",blog).split())))))"
      ],
      "metadata": {
        "id": "n8-eIWZH9C5q"
      },
      "execution_count": null,
      "outputs": []
    },
    {
      "cell_type": "code",
      "source": [
        "df_new = pd.DataFrame({\"blogs\":clean_news, \"gender\":gender})\n",
        "df_new.head()"
      ],
      "metadata": {
        "colab": {
          "base_uri": "https://localhost:8080/",
          "height": 204
        },
        "id": "2u5g6WYH9U--",
        "outputId": "d69dd47e-c0cd-4fba-b9bb-bc079a7f97cd"
      },
      "execution_count": null,
      "outputs": [
        {
          "output_type": "execute_result",
          "data": {
            "text/plain": [
              "                                               blogs gender\n",
              "0  Beyond Getting There What Travel Days Show Tod...      F\n",
              "1  remember much island large Lighthouse helped f...      F\n",
              "2  asthma allergies entire life While bet many as...      M\n",
              "3  The last days emotional rollercoaster team beh...      M\n",
              "4  lined teachers staff school search might possi...      F"
            ],
            "text/html": [
              "\n",
              "  <div id=\"df-dcb90a0e-88f6-4a50-a84b-dd1d6ff5e75a\">\n",
              "    <div class=\"colab-df-container\">\n",
              "      <div>\n",
              "<style scoped>\n",
              "    .dataframe tbody tr th:only-of-type {\n",
              "        vertical-align: middle;\n",
              "    }\n",
              "\n",
              "    .dataframe tbody tr th {\n",
              "        vertical-align: top;\n",
              "    }\n",
              "\n",
              "    .dataframe thead th {\n",
              "        text-align: right;\n",
              "    }\n",
              "</style>\n",
              "<table border=\"1\" class=\"dataframe\">\n",
              "  <thead>\n",
              "    <tr style=\"text-align: right;\">\n",
              "      <th></th>\n",
              "      <th>blogs</th>\n",
              "      <th>gender</th>\n",
              "    </tr>\n",
              "  </thead>\n",
              "  <tbody>\n",
              "    <tr>\n",
              "      <th>0</th>\n",
              "      <td>Beyond Getting There What Travel Days Show Tod...</td>\n",
              "      <td>F</td>\n",
              "    </tr>\n",
              "    <tr>\n",
              "      <th>1</th>\n",
              "      <td>remember much island large Lighthouse helped f...</td>\n",
              "      <td>F</td>\n",
              "    </tr>\n",
              "    <tr>\n",
              "      <th>2</th>\n",
              "      <td>asthma allergies entire life While bet many as...</td>\n",
              "      <td>M</td>\n",
              "    </tr>\n",
              "    <tr>\n",
              "      <th>3</th>\n",
              "      <td>The last days emotional rollercoaster team beh...</td>\n",
              "      <td>M</td>\n",
              "    </tr>\n",
              "    <tr>\n",
              "      <th>4</th>\n",
              "      <td>lined teachers staff school search might possi...</td>\n",
              "      <td>F</td>\n",
              "    </tr>\n",
              "  </tbody>\n",
              "</table>\n",
              "</div>\n",
              "      <button class=\"colab-df-convert\" onclick=\"convertToInteractive('df-dcb90a0e-88f6-4a50-a84b-dd1d6ff5e75a')\"\n",
              "              title=\"Convert this dataframe to an interactive table.\"\n",
              "              style=\"display:none;\">\n",
              "        \n",
              "  <svg xmlns=\"http://www.w3.org/2000/svg\" height=\"24px\"viewBox=\"0 0 24 24\"\n",
              "       width=\"24px\">\n",
              "    <path d=\"M0 0h24v24H0V0z\" fill=\"none\"/>\n",
              "    <path d=\"M18.56 5.44l.94 2.06.94-2.06 2.06-.94-2.06-.94-.94-2.06-.94 2.06-2.06.94zm-11 1L8.5 8.5l.94-2.06 2.06-.94-2.06-.94L8.5 2.5l-.94 2.06-2.06.94zm10 10l.94 2.06.94-2.06 2.06-.94-2.06-.94-.94-2.06-.94 2.06-2.06.94z\"/><path d=\"M17.41 7.96l-1.37-1.37c-.4-.4-.92-.59-1.43-.59-.52 0-1.04.2-1.43.59L10.3 9.45l-7.72 7.72c-.78.78-.78 2.05 0 2.83L4 21.41c.39.39.9.59 1.41.59.51 0 1.02-.2 1.41-.59l7.78-7.78 2.81-2.81c.8-.78.8-2.07 0-2.86zM5.41 20L4 18.59l7.72-7.72 1.47 1.35L5.41 20z\"/>\n",
              "  </svg>\n",
              "      </button>\n",
              "      \n",
              "  <style>\n",
              "    .colab-df-container {\n",
              "      display:flex;\n",
              "      flex-wrap:wrap;\n",
              "      gap: 12px;\n",
              "    }\n",
              "\n",
              "    .colab-df-convert {\n",
              "      background-color: #E8F0FE;\n",
              "      border: none;\n",
              "      border-radius: 50%;\n",
              "      cursor: pointer;\n",
              "      display: none;\n",
              "      fill: #1967D2;\n",
              "      height: 32px;\n",
              "      padding: 0 0 0 0;\n",
              "      width: 32px;\n",
              "    }\n",
              "\n",
              "    .colab-df-convert:hover {\n",
              "      background-color: #E2EBFA;\n",
              "      box-shadow: 0px 1px 2px rgba(60, 64, 67, 0.3), 0px 1px 3px 1px rgba(60, 64, 67, 0.15);\n",
              "      fill: #174EA6;\n",
              "    }\n",
              "\n",
              "    [theme=dark] .colab-df-convert {\n",
              "      background-color: #3B4455;\n",
              "      fill: #D2E3FC;\n",
              "    }\n",
              "\n",
              "    [theme=dark] .colab-df-convert:hover {\n",
              "      background-color: #434B5C;\n",
              "      box-shadow: 0px 1px 3px 1px rgba(0, 0, 0, 0.15);\n",
              "      filter: drop-shadow(0px 1px 2px rgba(0, 0, 0, 0.3));\n",
              "      fill: #FFFFFF;\n",
              "    }\n",
              "  </style>\n",
              "\n",
              "      <script>\n",
              "        const buttonEl =\n",
              "          document.querySelector('#df-dcb90a0e-88f6-4a50-a84b-dd1d6ff5e75a button.colab-df-convert');\n",
              "        buttonEl.style.display =\n",
              "          google.colab.kernel.accessAllowed ? 'block' : 'none';\n",
              "\n",
              "        async function convertToInteractive(key) {\n",
              "          const element = document.querySelector('#df-dcb90a0e-88f6-4a50-a84b-dd1d6ff5e75a');\n",
              "          const dataTable =\n",
              "            await google.colab.kernel.invokeFunction('convertToInteractive',\n",
              "                                                     [key], {});\n",
              "          if (!dataTable) return;\n",
              "\n",
              "          const docLinkHtml = 'Like what you see? Visit the ' +\n",
              "            '<a target=\"_blank\" href=https://colab.research.google.com/notebooks/data_table.ipynb>data table notebook</a>'\n",
              "            + ' to learn more about interactive tables.';\n",
              "          element.innerHTML = '';\n",
              "          dataTable['output_type'] = 'display_data';\n",
              "          await google.colab.output.renderOutput(dataTable, element);\n",
              "          const docLink = document.createElement('div');\n",
              "          docLink.innerHTML = docLinkHtml;\n",
              "          element.appendChild(docLink);\n",
              "        }\n",
              "      </script>\n",
              "    </div>\n",
              "  </div>\n",
              "  "
            ]
          },
          "metadata": {},
          "execution_count": 10
        }
      ]
    },
    {
      "cell_type": "markdown",
      "source": [
        "Old Input"
      ],
      "metadata": {
        "id": "bTNsfEY02dJH"
      }
    },
    {
      "cell_type": "code",
      "source": [
        "print(df['BLOG'][0])\n",
        "print(len(df['BLOG'][0]))"
      ],
      "metadata": {
        "colab": {
          "base_uri": "https://localhost:8080/"
        },
        "id": "_a48Q2mo1vsw",
        "outputId": "45c52191-356a-4809-c6cc-b9c0f0d5be5f"
      },
      "execution_count": null,
      "outputs": [
        {
          "output_type": "stream",
          "name": "stdout",
          "text": [
            " Beyond Getting There: What Travel Days Show Us\n",
            "\n",
            "Today’s guest post is by Gillian at One-Giant-Step.com sums up for me that imperceptible change that happens when you travel… you start appreciating things you never thought you would.  In that process, maybe you even learn a new way to see the world.\n",
            "\n",
            "\n",
            "\n",
            "Who is it that said “It’s not about the destination, it’s about the journey”? Nine months of full time traveling has proven to me that this is absolutely true.\n",
            "\n",
            "Before leaving on this trip the thought of an 8 or 10 hour bus trip was pretty daunting. The longest trips we’d taken were on planes, where they serve drinks and meals and we can pass the time watching movies. Eight hours on a bus, without the same amenities sounded like torture but we jumped in right from the start with a 22 hour ride from Lima to Cusco that, while not the most comfortable ride, got us into the swing of things pretty quickly.\n",
            "\n",
            "Once we got a routine down…snacks packed, books prepared, podcasts ready…and had determined our favorite seats…on the drivers side, no window bar blocking the view, no children nearby…bus journeys became easy and now travel days are some of my favorite days.\n",
            "\n",
            "\n",
            "\n",
            "They are a chance for quiet reflection, to leave behind what is past, to think about the place we are leaving and start thinking about how we will remember our experiences there…that great evening we had at the market, the interesting people we met at the cooking course, the horrible bed at the guesthouse. They are a chance to look forward, to anticipate what is coming, and to plan ahead…where will we go next, how will we get there…where will we stay. They are a chance to stare out the window and think about where we’ve been and where we’re going, about past successes and future plans…when else is there a chance to do nothing but quietly think?\n",
            "\n",
            "Travel days let us learn a little bit about the people and culture of the places we visit. Sitting in an airport, bus station or train depot gives me a great vantage point to see how people relate to each other. Who is traveling with who? Where might they be going, and why? Are they traveling for work, or holiday, or to visit family? Who are they meeting…or leaving behind?\n",
            "\n",
            "In a small northern Turkish town we witnessed a heart-wrenching goodbye between two young men. Turkish men are very close - it is normal to see them holding hands and embracing each other – and this couple seemed heartbroken to be leaving each other. One boy sat in the seat ahead of us, perhaps on his way to school or military service, his friend stood outside the bus. They spent their remaining time together with hands pressed against the glass, trying to talk through the window and texting each other on their phones. I don’t understand Turkish but is was clear they were going to miss each other terribly.\n",
            "\n",
            "I like the act of traveling, the moving forward, the getting somewhere. I love watching the scenery slowly change from rolling hills to flat plains, along high twisty mountain roads or perfectly straight desert highways – there is always lots to see. One of my favorite bus rides is still that first 22 hour ride between Lima and Cusco. I will always remember dawn breaking over the altiplano, the smoke rising from the llama herder shacks and the sun glinting off the frost that covered the ground.\n",
            "\n",
            "There are plenty of stories to be told about dodgy bus trips, or awful plane rides, or the never-ending tuk tuk/minivan/bus/boat combination…what would we do without those stories? But there are also plenty of journeys that are made perfectly lovely…the lemon spritz on Turkish buses, the meals served on Argentinean buses, or the comfy bed on the overnight Thailand train.\n",
            "\n",
            "Travel days are an integral part of travel. They are filled with possibility and anticipation of what lies ahead. I like the optimism they have, the sense that fun and adventure lie ahead. No matter how long or short the journey they will always be my favorites.\n",
            "3960\n"
          ]
        }
      ]
    },
    {
      "cell_type": "markdown",
      "source": [
        "New Cleaned Tokenized Input"
      ],
      "metadata": {
        "id": "X7cQD3ro2fWu"
      }
    },
    {
      "cell_type": "code",
      "source": [
        "print(df_new['blogs'][0])\n",
        "print(len(df_new['blogs'][0]))"
      ],
      "metadata": {
        "colab": {
          "base_uri": "https://localhost:8080/"
        },
        "id": "pF3SkvYz2Ftm",
        "outputId": "8fc465cd-aa30-40e1-b412-371793156e96"
      },
      "execution_count": null,
      "outputs": [
        {
          "output_type": "stream",
          "name": "stdout",
          "text": [
            "Beyond Getting There What Travel Days Show Today guest post Gillian One Giant Step com sums imperceptible change happens travel start appreciating things never thought would process maybe even learn new way see world Who said destination journey Nine months full time traveling proven absolutely true Before leaving trip thought hour bus trip pretty daunting The longest trips taken planes serve drinks meals pass time watching movies Eight hours bus without amenities sounded like torture jumped right start hour ride Lima Cusco comfortable ride got swing things pretty quickly Once got routine snacks packed books prepared podcasts ready determined favorite seats drivers side window bar blocking view children nearby bus journeys became easy travel days favorite days They chance quiet reflection leave behind past think place leaving start thinking remember experiences great evening market interesting people met cooking course horrible bed guesthouse They chance look forward anticipate coming plan ahead next get stay They chance stare window think going past successes future plans else chance nothing quietly think Travel days let learn little bit people culture places visit Sitting airport bus station train depot gives great vantage point see people relate Who traveling Where might going Are traveling work holiday visit family Who meeting leaving behind small northern Turkish town witnessed heart wrenching goodbye two young men Turkish men close normal see holding hands embracing couple seemed heartbroken leaving One boy sat seat ahead perhaps way school military service friend stood outside bus They spent remaining time together hands pressed glass trying talk window texting phones understand Turkish clear going miss terribly like act traveling moving forward getting somewhere love watching scenery slowly change rolling hills flat plains along high twisty mountain roads perfectly straight desert highways always lots see One favorite bus rides still first hour ride Lima Cusco always remember dawn breaking altiplano smoke rising llama herder shacks sun glinting frost covered ground There plenty stories told dodgy bus trips awful plane rides never ending tuk tuk minivan bus boat combination would without stories But also plenty journeys made perfectly lovely lemon spritz Turkish buses meals served Argentinean buses comfy bed overnight Thailand train Travel days integral part travel They filled possibility anticipation lies ahead like optimism sense fun adventure lie ahead matter long short journey always favorites\n",
            "2549\n"
          ]
        }
      ]
    },
    {
      "cell_type": "markdown",
      "source": [
        "Converting To Lower"
      ],
      "metadata": {
        "id": "J0iYvuMt3R0u"
      }
    },
    {
      "cell_type": "code",
      "source": [
        "df_new['blogs'] = df_new['blogs'].str.lower()"
      ],
      "metadata": {
        "id": "CMondZpx3CsM"
      },
      "execution_count": null,
      "outputs": []
    },
    {
      "cell_type": "code",
      "source": [
        "print(df_new['blogs'][0])\n",
        "print(len(df_new['blogs'][0]))"
      ],
      "metadata": {
        "colab": {
          "base_uri": "https://localhost:8080/"
        },
        "id": "7HRCtWBR3OaL",
        "outputId": "33ae9b7b-3872-4492-cc76-6e3f08944524"
      },
      "execution_count": null,
      "outputs": [
        {
          "output_type": "stream",
          "name": "stdout",
          "text": [
            "beyond getting there what travel days show today guest post gillian one giant step com sums imperceptible change happens travel start appreciating things never thought would process maybe even learn new way see world who said destination journey nine months full time traveling proven absolutely true before leaving trip thought hour bus trip pretty daunting the longest trips taken planes serve drinks meals pass time watching movies eight hours bus without amenities sounded like torture jumped right start hour ride lima cusco comfortable ride got swing things pretty quickly once got routine snacks packed books prepared podcasts ready determined favorite seats drivers side window bar blocking view children nearby bus journeys became easy travel days favorite days they chance quiet reflection leave behind past think place leaving start thinking remember experiences great evening market interesting people met cooking course horrible bed guesthouse they chance look forward anticipate coming plan ahead next get stay they chance stare window think going past successes future plans else chance nothing quietly think travel days let learn little bit people culture places visit sitting airport bus station train depot gives great vantage point see people relate who traveling where might going are traveling work holiday visit family who meeting leaving behind small northern turkish town witnessed heart wrenching goodbye two young men turkish men close normal see holding hands embracing couple seemed heartbroken leaving one boy sat seat ahead perhaps way school military service friend stood outside bus they spent remaining time together hands pressed glass trying talk window texting phones understand turkish clear going miss terribly like act traveling moving forward getting somewhere love watching scenery slowly change rolling hills flat plains along high twisty mountain roads perfectly straight desert highways always lots see one favorite bus rides still first hour ride lima cusco always remember dawn breaking altiplano smoke rising llama herder shacks sun glinting frost covered ground there plenty stories told dodgy bus trips awful plane rides never ending tuk tuk minivan bus boat combination would without stories but also plenty journeys made perfectly lovely lemon spritz turkish buses meals served argentinean buses comfy bed overnight thailand train travel days integral part travel they filled possibility anticipation lies ahead like optimism sense fun adventure lie ahead matter long short journey always favorites\n",
            "2549\n"
          ]
        }
      ]
    },
    {
      "cell_type": "markdown",
      "source": [
        "##Machine Learning Algorithm Begins Here:"
      ],
      "metadata": {
        "id": "BkogqE7VzeeS"
      }
    },
    {
      "cell_type": "code",
      "source": [
        "from sklearn.model_selection import train_test_split\n",
        "Xtrain, Xtest, Ytrain, Ytest = train_test_split(df_new['blogs'], gender, test_size=0.1, random_state=42)\n",
        "\n",
        "vectorizer = TfidfVectorizer()\n",
        "x_train_vect = vectorizer.fit_transform(Xtrain)\n",
        "x_test_vect = vectorizer.transform(Xtest)\n",
        "x_train_vect.shape\n",
        "x_test_vect.shape"
      ],
      "metadata": {
        "colab": {
          "base_uri": "https://localhost:8080/"
        },
        "id": "CO0twxcm5IGN",
        "outputId": "c07a93b6-3719-4268-cc68-a7f5328423bb"
      },
      "execution_count": null,
      "outputs": [
        {
          "output_type": "execute_result",
          "data": {
            "text/plain": [
              "(260, 45285)"
            ]
          },
          "metadata": {},
          "execution_count": 15
        }
      ]
    },
    {
      "cell_type": "code",
      "source": [
        "def mod_runner(model, x_train_vect, Ytrain, Ytest):\n",
        "  mod = model\n",
        "  mod.fit(x_train_vect,Ytrain)\n",
        "  best_preds = mod.predict(x_test_vect)\n",
        "  print(\"Accuracy:{} for Model:{}\".format(accuracy_score(best_preds,Ytest),model))\n"
      ],
      "metadata": {
        "id": "k1byOc4UUffa"
      },
      "execution_count": null,
      "outputs": []
    },
    {
      "cell_type": "markdown",
      "source": [
        "##Testing All Accuracy for models"
      ],
      "metadata": {
        "id": "nVX9rroezja9"
      }
    },
    {
      "cell_type": "code",
      "source": [
        "models=[BernoulliNB(),svm.SVC(kernel='linear', C = 1.0),LogisticRegression(),svm.SVC(kernel='poly', C = 1.0),svm.SVC(kernel='sigmoid', C = 1.0)]\n",
        "\n",
        "for model in models:\n",
        "  mod_runner(model, x_train_vect, Ytrain, Ytest)"
      ],
      "metadata": {
        "colab": {
          "base_uri": "https://localhost:8080/"
        },
        "id": "mxKXfhoKVOMI",
        "outputId": "b6a98a4c-d008-4007-87b1-96791831c65f"
      },
      "execution_count": null,
      "outputs": [
        {
          "output_type": "stream",
          "name": "stdout",
          "text": [
            "Accuracy:0.6846153846153846 for Model:BernoulliNB()\n",
            "Accuracy:0.7038461538461539 for Model:SVC(kernel='linear')\n",
            "Accuracy:0.7230769230769231 for Model:LogisticRegression()\n",
            "Accuracy:0.6346153846153846 for Model:SVC(kernel='poly')\n",
            "Accuracy:0.7 for Model:SVC(kernel='sigmoid')\n"
          ]
        }
      ]
    },
    {
      "cell_type": "markdown",
      "source": [
        "##Selected Model-SVC with Sigmoid Function"
      ],
      "metadata": {
        "id": "nYvEkMMavUR9"
      }
    },
    {
      "cell_type": "markdown",
      "source": [
        "Taking the 1st entry of the Test Set to classify and Predict."
      ],
      "metadata": {
        "id": "f8s3etnLxoyl"
      }
    },
    {
      "cell_type": "code",
      "source": [
        "mod = LogisticRegression()\n",
        "mod.fit(x_train_vect, Ytrain)\n",
        "best_prediction = mod.predict(x_test_vect[1])"
      ],
      "metadata": {
        "id": "KVt7ep5ovO7g"
      },
      "execution_count": null,
      "outputs": []
    },
    {
      "cell_type": "markdown",
      "source": [
        "The prediction result is below as \"M\" as in Male"
      ],
      "metadata": {
        "id": "w4Tdo2xFxvq6"
      }
    },
    {
      "cell_type": "code",
      "source": [
        "print(best_prediction)"
      ],
      "metadata": {
        "colab": {
          "base_uri": "https://localhost:8080/"
        },
        "id": "m10jjFDCvinx",
        "outputId": "7e496117-49b3-49eb-945e-302d5fb82078"
      },
      "execution_count": null,
      "outputs": [
        {
          "output_type": "stream",
          "name": "stdout",
          "text": [
            "['M']\n"
          ]
        }
      ]
    },
    {
      "cell_type": "markdown",
      "source": [
        "Converting the Test and Output Variables into DataFrames to view the Actual Output."
      ],
      "metadata": {
        "id": "yBCZeDqex0-P"
      }
    },
    {
      "cell_type": "code",
      "source": [
        "todf=pd.DataFrame(Xtest)\n",
        "output = pd.DataFrame(Ytest)"
      ],
      "metadata": {
        "id": "ZQ28hUtnwSM8"
      },
      "execution_count": null,
      "outputs": []
    },
    {
      "cell_type": "markdown",
      "source": [
        "The Actual Output for the same predicted input is also \"M\" as in Male"
      ],
      "metadata": {
        "id": "vyk04DCSyBuK"
      }
    },
    {
      "cell_type": "code",
      "source": [
        "print(todf.head(1),output.head(1))"
      ],
      "metadata": {
        "colab": {
          "base_uri": "https://localhost:8080/"
        },
        "id": "T4dN7FkNwrE5",
        "outputId": "ac8c34ad-176f-4153-c545-5e19d9e7457a"
      },
      "execution_count": null,
      "outputs": [
        {
          "output_type": "stream",
          "name": "stdout",
          "text": [
            "                                                  blogs\n",
            "1593  came finally ere write testi bout col wer star...      GENDER\n",
            "1593      M\n"
          ]
        }
      ]
    },
    {
      "cell_type": "markdown",
      "source": [
        "#This proves our Prediction is Accurate!"
      ],
      "metadata": {
        "id": "3nobj6UpyJOW"
      }
    }
  ]
}